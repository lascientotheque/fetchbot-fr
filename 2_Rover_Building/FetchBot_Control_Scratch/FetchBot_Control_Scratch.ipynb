{
 "cells": [
  {
   "cell_type": "markdown",
   "id": "f675b064",
   "metadata": {},
   "source": [
    "# Contrôle du FetchBot avec Scratch\n",
    "\n",
    "**Objectif:** Faire déplacer le FetchBot avec Scratch.\n",
    "\n",
    "|||\n",
    ":--- | :--- |\n",
    "|Âge |10 à 14 ans|\n",
    "|Notions abordées|Robotique, programmation avec Scratch, condition, boucle.|\n",
    "| Durée| 4 heures|\n",
    "| Dispositif pédagogiques| Par groupe de 2|\n",
    "| Matériel| Un FetchBot, Un laptop/tablette par groupe de 2, avec connexion à Internet|\n",
    "| Prérequis| 1. Connaissances de bases de Scratch (voir Activité 2 - Reconnaissance d'images avec Scratch)<br> 2. Avoir construit le FetchBot et s'y être connecté avec VNC viewer (voir Activité 4 - Construction du rover)|\n",
    "\n"
   ]
  },
  {
   "cell_type": "markdown",
   "id": "27f9039a",
   "metadata": {},
   "source": [
    "## Aperçu\n",
    "\n",
    "\n",
    "\n"
   ]
  },
  {
   "cell_type": "markdown",
   "id": "903863b3",
   "metadata": {},
   "source": [
    "## Adacraft\n",
    "\n",
    "Cette activité utilise Adacraft, qui est une version modifiée de Scratch incluant une extension permettant de communiquer avec le rover. L'extension s'appelle 'CloudLink', et te permettra de te connecter au rover, et de lui envoyer des messages pour le faire avancer, tourner, ou reculer.\n",
    "\n",
    "## Créer un projet Adacraft\n",
    "\n",
    "Rends-toi sur le site d'Adacraft: [https://www.adacraft.org](https://www.adacraft.org), puis clique sur 'Create' en haut à gauche. \n",
    "\n",
    "<img src=\"images/localisation/Adacraft_1_LandingPage.jpg\" alt=\"Adacraft_1_LandingPage\" width=\"900\"/> \n",
    "\n",
    "Si tu n'es pas inscrit, un message apparaîtra t'informant que ton travail ne pourra pas être sauvegardé. Il est intéressant de t'inscrire sur le site (en cliquant sur 'Sign up') pour pouvoir sauvegarder tes programmes. Si tu souhaites juste tester l'interface, clique sur 'Start creating without online saving'. Tu pourras dans tous les cas sauvegarder ton travail en le téléchargeant sur ton ordinateur.\n",
    "\n",
    "Une fois ce message validé, tu arriveras sur l'interface du *studio* dans lequel tu pourras créer tes programmes. \n",
    "\n",
    "<img src=\"images/localisation/Adacraft_2_Studio.jpg\" alt=\"Adacraft_2_Studio\" width=\"900\"/> \n",
    "\n",
    "Tu peux choisir la langue en cliquant sur l'icône de planète en haut à gauche."
   ]
  },
  {
   "cell_type": "markdown",
   "id": "a18337fd",
   "metadata": {},
   "source": [
    "## Connexion au rover\n",
    "\n",
    "La connexion au rover se fera grâce [au système CloudLink](https://github.com/MikeDev101/cloudlink), qui permet à Scratch d'envoyer des messages au rover.\n",
    "\n",
    "<img src=\"images/Scratch_CloudLink.jpg\" alt=\"Scratch_CloudLink\" width=\"900\"/> \n",
    "\n",
    "\n",
    "### Lancer le serveur CloudLink\n",
    "\n",
    "Pour que le rover puisse recevoir les messages, il faut lancer le programme Python `start_cloudlink.py`. Le programme se trouve dans le répertoire 'tools/cloudlink' du [dépôt GitHub](https://github.com/lascientotheque/fetchbot-fr). Pour le lancer, ouvre un terminal de commande, puis va dans le répertoire 'fetchbot-fr/tools/cloudlink' avec la commande\n",
    "\n",
    "```\n",
    "cd fetchbot-fr/tools/cloudlink\n",
    "```\n",
    "\n",
    "```{note}\n",
    "Si le répertoire n'existe pas, c'est que les fichiers du [dépôt Github](https://github.com/lascientotheque/fetchbot-fr) se trouvent dans un autre répertoire que celui donné en exemple lors de [la copie du dépôt GitHub](Github_Depot). Remplace le répertoire `fetchbot-fr` par celui où les fichier ont été téléchargés. \n",
    "```\n",
    "\n",
    "Lance ensuite le script `start_cloudlink.py` avec la commande python\n",
    "\n",
    "```\n",
    "python start_cloudlink.py\n",
    "```\n",
    "\n",
    "### Connexion au rover dans Adacraft\n",
    "\n",
    "Pour te connecter au rover dans Adacraft, tu auras besoin de l'extension Cloudlink. Pour y accéder, il faut cliquer sur l'icône en bas à gauche 'Ajouter une extension'. Ceci t'amènera à une page avec toutes les extensions disponibles. Descend dans la page pour trouver l'extension 'Cloudlink' et clique dessus. Tu pourras voir l'extension dans la zone d'instructions.\n",
    "\n",
    "Le bloc pour se connecter au rover avec CloudLink est dans la catégorie 'CloudLink', et s'appelle \"Connect to ws://127.0.0.1:3000\". Sélectionne le et place le dans la zone du programme. \n",
    "\n",
    "<img src=\"images/localisation/Adacraft_3_CloudLink_Extension.gif\"  alt=\"Adacraft_3_CloudLink_Extension\" width=\"1000\"/> \n"
   ]
  },
  {
   "cell_type": "markdown",
   "id": "d8f0a099",
   "metadata": {},
   "source": [
    "## Faire avancer le rover\n",
    "\n",
    "Le pilotage du rover se fait avec le bloc 'Send command cmd id val' dans la catégorie `CloudLink`. Il s'agit du dernier bloc de la catégorie. Pour faire avance le rover, il faut remplacer 'cmd' par 'direct', et 'val' par 'forward' (qui signifier 'avancer' en anglais).\n",
    "\n",
    "Place le bloc sous celui de la connexion, et ajoute un drapeau de démarrage du programme. \n",
    "\n",
    "\n",
    "<img src=\"images/Adacraft_4_CloudLink_Forward.gif\"  alt=\"Adacraft_4_CloudLink_Forward\" width=\"1000\"/> \n",
    "\n",
    "### Tester le code\n",
    "\n",
    "Remarque : Avant d'exécuter le code, allume la batterie. Remarque : place ton robot sur un support de manière à ce que les moteurs ne touchent pas le sol. Tu ne veux pas que ton robot tombe du bureau !\n",
    "\n",
    "Tu es maintenant prêt à exécuter le code. Clique sur le drapeau vert au dessus de la scène. Si tu constates que le code ne s'exécute pas correctement, il se peut qu'il y ait une erreur dans le code que tu as tapé.\n",
    "\n",
    "Tu devrais maintenant voir les deux moteurs tourner en avant en même temps pendant une demie seconde. Si un seul moteur tourne, vérifie ton câblage. Si l'un des moteurs tourne en arrière, intervertis les fils rouge et noir de ce moteur dans le bornier. Continue à tester le code jusqu'à ce que les fils soient à la bonne place.\n"
   ]
  },
  {
   "cell_type": "markdown",
   "id": "9412e8b0",
   "metadata": {},
   "source": [
    "## Faire tourner le rover\n",
    "\n",
    "Pour faire tourner le robot, utilise le même bloc que pour le faire avancer, mais au lieu d'envoyer la valeur 'forward', tu envoies\n",
    "\n",
    "* La valeur 'left' pour tourner à gauche\n",
    "\n",
    "<img src=\"images/Adacraft_4_CloudLink_Left.jpg\"  alt=\"Adacraft_4_CloudLink_Left\" width=\"300\"/> \n",
    "\n",
    "\n",
    "* La valeur 'right' pour tourner à droite\n",
    "\n",
    "<img src=\"images/Adacraft_4_CloudLink_Right.jpg\"  alt=\"Adacraft_4_CloudLink_Right\" width=\"300\"/> \n"
   ]
  },
  {
   "cell_type": "markdown",
   "id": "477ba5f3",
   "metadata": {},
   "source": [
    "## Pour aller plus loin\n",
    "\n",
    "Tu sais maintenant comment faire avancer ou tourner le FetchBot. Expérimente avec différents parcours. Pourrais-tu faire le code qui permettrait au robot de faire un itinéraire en forme de carré? \n",
    "\n"
   ]
  },
  {
   "cell_type": "code",
   "execution_count": null,
   "id": "3d050d35",
   "metadata": {},
   "outputs": [],
   "source": []
  }
 ],
 "metadata": {
  "kernelspec": {
   "display_name": "Python 3 (ipykernel)",
   "language": "python",
   "name": "python3"
  },
  "language_info": {
   "codemirror_mode": {
    "name": "ipython",
    "version": 3
   },
   "file_extension": ".py",
   "mimetype": "text/x-python",
   "name": "python",
   "nbconvert_exporter": "python",
   "pygments_lexer": "ipython3",
   "version": "3.9.7"
  }
 },
 "nbformat": 4,
 "nbformat_minor": 5
}
