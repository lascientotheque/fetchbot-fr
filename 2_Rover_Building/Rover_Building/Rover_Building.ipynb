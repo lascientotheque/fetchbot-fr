{
 "cells": [
  {
   "cell_type": "markdown",
   "metadata": {},
   "source": [
    "(Rover_Building)=\n",
    "# Construction du FetchBot\n",
    "\n",
    "\n",
    "**Objectif:** Découverte de Raspberry Pi et construction du rover\n",
    "\n",
    "|||\n",
    ":--- | :--- |\n",
    "|Âge |10 à 18 ans|\n",
    "|Notions abordées|Carte programmable Raspberry Pi, connexion à une carte programmable, robotique.|\n",
    "| Durée| 4 heures|\n",
    "| Dispositif pédagogiques| Par groupe de 2|\n",
    "| Matériel| 1. Un laptop/tablette par groupe de 2, avec connexion à Internet<br>2. Une carte Raspberry Pi avec caméra, et un CamJam EduKit.<br>3. Un câble Ethernet|\n",
    "| Prérequis| 1. Avoir pris en main le Raspberry Pi, et savoir s'y connecter avec VNC viewer (voir [Rasberry Pi: Prise en main et préparation](Raspberry_Pi))|\n",
    "\n"
   ]
  },
  {
   "cell_type": "markdown",
   "metadata": {},
   "source": [
    "## Matériel:\n",
    "\n",
    "Ce dont tu as besoin:\n",
    "\n",
    "Pour cette partie, tu auras besoin des éléments suivants du CamJam EduKit :\n",
    "\n",
    "- La carte contrôleur de moteur CamJam EduKit\n",
    "- Deux moteurs (avec les fils déjà attachés)\n",
    "- Deux roues\n",
    "- Le boîtier de piles\n",
    "- La boule à roulette\n",
    "- Du ruban adhésif double face pour coller les pièces au châssis - à découper selon les besoins.\n",
    "\n",
    "Ainsi que :\n",
    "\n",
    "- Un Raspberry Pi et une caméra pour Raspberry Pi\n",
    "- Une alimentation pour Raspberry Pi, ou une batterie de type chargeur de téléphone\n",
    "- 4 piles AA. Il est conseillé d'utiliser de bonnes piles, car certaines piles bon marché ne peuvent pas fournir le courant nécessaire pour faire fonctionner les moteurs.\n",
    "- Un petit tournevis cruciforme\n",
    "- Un châssis - faites appel à votre imagination (également non fourni !)\n",
    "\n",
    "## Aperçu\n",
    "\n",
    "Dans cette activité, tu vas assembler les pièces de base et construire le rover. La construction est très facile. Au plus simple, la boite du CamJam EduKit est utilisée comme chassis. Il s'agit de coller les moteurs sous la boîte, y attacher les roues, et placer la bille à l'avant, grâce à des scotchs fournis dans le kit. Pour le cablâge, les fils des moteurs et la batterie sont reliés au contrôleur moteur, que l'on place sur le Raspberry Pi dans la boîte. La caméra est finalement placée à l'avant.\n"
   ]
  },
  {
   "cell_type": "markdown",
   "metadata": {},
   "source": [
    "## Châssis\n",
    "\n",
    "La simplicité du kit offre une large place à la créativité pour la construction du chassis. Quelques exemples de rovers construits avec le CamJam EduKit sont données ci-dessous, avec un chassis utilisant la boîte du kit, un chassis imprimé en 3D, ou l'utilisation d'une simple planche de bois. \n",
    "\n",
    "\n",
    "||||\n",
    ":--- | --- | ---: |\n",
    "|<img src=\"./images/CamJam_Box.jpg\" width=\"230\"/>  |<img src=\"./images/CamJam_3DPrint.jpg\" width=\"300\"/> | <img src=\"./images/CamJam_Wood.png\" width=\"350\"/>|\n",
    "|<a href=\"https://www.youtube.com/watch?v=LJDEV7rGwaM\">Chassis en carton (avec la boîte du CamJam EduKit)</a>|<a href=\"https://camjam.me/?page_id=1035\">Chassis en impression 3D</a>|<a href=\"https://www.youtube.com/watch?v=LKTpj8QHWEc\">Chassis en bois</a>|\n",
    "\n",
    "\n",
    "Après avoir décidé du châssis, fixe les moteurs à une extrémité et la boule à roulettes à l'autre. Du ruban adhésif double face peut être utilisé pour fixer les moteurs. La boule à roulettes est fournie avec des vis, tu peux donc la boulonner, ou la scotcher, à ton châssis. \n",
    "\n",
    "\n",
    "```{note}\n",
    "Les roues du rover se déplaceront mieux si la majeure partie du poids du Raspberry Pi et des batteries se trouve sur les roues motrices.  Par conséquent, construis le châssis de manière à ce que la majeure partie du poids se trouve au-dessus d'elles. \n",
    "```\n",
    "\n",
    "<img src=\"./images/Robot_underside.jpg\" width=\"500\"/>\n",
    "\n"
   ]
  },
  {
   "cell_type": "markdown",
   "metadata": {},
   "source": [
    "## Connexion du contrôleur de moteur EduKit au Raspberry Pi\n",
    "\n",
    "Assure-toi que ton Raspberry Pi est éteint avant d'y connecter quoi que ce soit. Branche la carte contrôleur de moteur EduKit sur les broches GPIO de ton Pi, la partie principale de la carte contrôleur étant suspendue au-dessus du Pi, comme dans le schéma suivant :\n",
    "\n",
    "<img src=\"./images/raspberry_edukit.jpg\" width=\"500\"/>\n",
    "\n",
    "Une fois que tu es sûr de savoir comment il s'adapte à ton Pi, tu devras retirer la carte pour faciliter la connexion des fils pour les moteurs et la batterie."
   ]
  },
  {
   "cell_type": "markdown",
   "metadata": {},
   "source": [
    "## Connexion des moteurs et du boîtier de batterie à la carte du contrôleur de moteur EduKit\n",
    "\n",
    "Retourne le robot sur ses roues. Fixe ton Pi et le boîtier à piles (avec les piles insérées et éteintes) sur le dessus du châssis avec du ruban adhésif double face ou du mastic de montage. Connecte maintenant le boîtier de piles et les moteurs aux bornes à vis du contrôleur comme indiqué dans le schéma ci-dessous (le Pi n'est pas représenté pour plus de clarté). \n",
    "\n",
    "<img src=\"./images/motor_connection.jpg\" width=\"600\"/>\n",
    "\n",
    "Le fil noir va à la borne marquée GND (masse) et le fil rouge va à la borne marquée VCC (tension). Remarque : Il est important de savoir dans quel sens passent les fils du boîtier de la batterie. Tu risques d'endommager la carte du contrôleur de moteur EduKit si tu la connecte dans le mauvais sens, alors vérifie le câblage avant d'allumer quoi que ce soit.\n",
    "\n",
    "Connecte le moteur situé à droite du robot au bornier marqué Moteur A et le moteur situé à gauche au bornier marqué Moteur B. Il n'est pas important à ce stade de savoir quels fils du moteur entrent dans quelles bornes, car le câblage rouge/noir n'est pas garanti dans le même sens sur les moteurs, qui peuvent donc tourner dans le mauvais sens. Tu réparereras ce problème lorsque tu testeras les moteurs.\n",
    "\n",
    "\n",
    "\n",
    "## Choix d'une batterie pour votre Pi (facultatif)\n",
    "\n",
    "Afin de rendre ton Raspberry Pi mobile, tu dois l'alimenter avec une batterie portable. Tu peux utiliser plusieurs types de batteries, mais le plus simple est d'utiliser une batterie pour charger les téléphones portables. Elles doivent être capables de fournir suffisamment de courant pour le Pi (au moins 1A est recommandé), et avoir assez de puissance pour durer un temps raisonnable avant de s'épuiser. Tu trouveras un exemple de pack batterie sur le site Web de 4tronix : [http://bit.ly/EduKitBattery](http://bit.ly/EduKitBattery). Utilise un câble USB standard vers microUSB pour connecter la batterie à votre Pi.\n",
    "\n",
    "```{note}\n",
    "Si tu n'as pas de batterie pour alimenter ton Raspberry Pi, ton robot sera \" attaché \", ce qui signifie que tu ne pourras pas aller plus loin que le câble d'alimentation que tu utilises pour alimenter ton Pi.\n",
    "```\n",
    "\n",
    "## Robot terminé\n",
    "\n",
    "Si vous ne l'avez pas encore fait, reconnectez la carte du contrôleur de moteur au Raspberry Pi.\n",
    "\n",
    "Le robot de base est maintenant terminé.\n",
    "\n",
    "Dans la prochaine feuille de travail, vous apprendrez à faire tourner les roues et à les faire tourner dans la même direction en même temps.\n",
    "\n",
    "<img src=\"./images/completed_robot.jpg\" width=\"600\"/>\n",
    "\n",
    "\n"
   ]
  },
  {
   "cell_type": "markdown",
   "metadata": {},
   "source": [
    "## Ajout de la caméra\n",
    "\n",
    "La caméra se place dans le port caméra du Raspberry Pi. \n",
    "\n",
    "|||\n",
    "| :---: | :---: | \n",
    "|<img src=\"./images/pi4-camera-port.png\" width=\"400\"/>  |<img src=\"./images/camera-module.png\" width=\"300\"/> | \n",
    "|Carte Raspberry Pi. Le port pour attacher la caméra<br> est indiqué par une flèche|caméra Raspberry Pi|\n",
    "\n",
    "### Connecter le module caméra\n",
    "\n",
    "Assure-toi que ton Raspberry Pi est éteint.\n",
    "\n",
    "1. Trouve le port du module caméra\n",
    "2. Tire doucement sur les bords du clip en plastique du port\n",
    "3. Insère la nappe caméra ; assure-toi que la nappe est dans le bon sens\n",
    "4. Remets le clip en plastique en place\n",
    "\n",
    "<img src=\"./images/connect-camera.gif\" width=\"600\"/>\n",
    "\n",
    "\n",
    "### Configuration dans le Raspberry Pi\n",
    "\n",
    "Démarre ton Raspberry Pi. Va dans le menu principal et ouvre l’outil **Configuration du Raspberry Pi**.\n",
    "\n",
    "<img src=\"./images/pi-configuration-menu.png\" width=\"400\"/>\n",
    "\n",
    "Sélectionne l’onglet **Interfaces** et assure-toi que la caméra est **activée** :\n",
    "\n",
    "<img src=\"./images/pi-configuration-interfaces-annotated.png\" width=\"500\"/>\n",
    "\n",
    "Redémarre ton Raspberry Pi.\n",
    "\n",
    "### Vérifie que la caméra fonctionne\n",
    "\n",
    "Une fois le Raspberry Pi redémarré, tu peux aller sur le site de la [Teachable Machine](https://teachablemachine.withgoogle.com/). Créer un projet image, et lance la caméra pour prendre des photos et vérifier que la caméra fonctionne. "
   ]
  },
  {
   "cell_type": "markdown",
   "metadata": {},
   "source": [
    "## Télécommande le rover\n",
    "\n",
    "Tu peux vérifier que tout fonctionne sur le rover grâce à la télécommande Web. Il faut lancer le programme Python `remote_control.py`. Le programme se trouve dans le répertoire 'tools/remote_control' du [dépôt GitHub](https://github.com/lascientotheque/fetchbot-fr). Pour le lancer, ouvre un terminal de commande, puis va dans le répertoire 'fetchbot-fr/tools/remote_control' avec la commande\n",
    "\n",
    "```\n",
    "cd fetchbot-fr/tools/remote_control\n",
    "```\n",
    "\n",
    "```{note}\n",
    "Si le répertoire n'existe pas, c'est que les fichiers du [dépôt Github](https://github.com/lascientotheque/fetchbot-fr) se trouvent dans un autre répertoire que celui donné en exemple lors de [la copie du dépôt GitHub](Github_Depot). Remplace le répertoire `fetchbot-fr` par celui où les fichier ont été téléchargés. \n",
    "```\n",
    "\n",
    "Lance ensuite le script `remote_control.py` avec la commande python\n",
    "\n",
    "```\n",
    "python3 remote_control.py\n",
    "```\n",
    "\n",
    "Tu peux ensuite ouvrir la page Web dans le navigateur à l'adresse `0.0.0.0:2204`. \n",
    "\n",
    "Pour quitter le programme, retourne dans le terminal de commande, et appuie sur les touches CTRL+C. \n"
   ]
  },
  {
   "cell_type": "markdown",
   "metadata": {},
   "source": [
    "## Autres ressources\n",
    "\n",
    "* [Build a buggy project - Raspberry Pi Foundation](https://projects.raspberrypi.org/en/projects/build-a-buggy)\n",
    "* https://gpiozero.readthedocs.io/en/stable/recipes.html\n",
    "\n",
    "## Remerciements\n",
    "\n",
    "Cette section reprend des éléments:\n",
    "\n",
    "* du tutoriel [CamJam EdutKit](https://github.com/CamJam-EduKit/EduKit3/blob/master/CamJam%20Edukit%203%20-%20GPIO%20Zero/CamJam%20EduKit%203%20-%20Robotics%20Worksheet%202%20(GPIO%20Zero)%20-%20Building%20a%20Robot.pdf)\n",
    "* du tutoriel [de prise en main de la caméra Raspberry de la Raspberry Pi Foundation](https://projects.raspberrypi.org/fr-FR/projects/getting-started-with-picamera/0).\n"
   ]
  },
  {
   "cell_type": "markdown",
   "metadata": {},
   "source": [
    "\n",
    "\n"
   ]
  }
 ],
 "metadata": {
  "kernelspec": {
   "display_name": "Python 3 (ipykernel)",
   "language": "python",
   "name": "python3"
  },
  "language_info": {
   "codemirror_mode": {
    "name": "ipython",
    "version": 3
   },
   "file_extension": ".py",
   "mimetype": "text/x-python",
   "name": "python",
   "nbconvert_exporter": "python",
   "pygments_lexer": "ipython3",
   "version": "3.9.7"
  }
 },
 "nbformat": 4,
 "nbformat_minor": 4
}
