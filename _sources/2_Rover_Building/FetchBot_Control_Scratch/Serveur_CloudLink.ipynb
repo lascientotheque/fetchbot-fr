{
 "cells": [
  {
   "cell_type": "markdown",
   "id": "d0581186",
   "metadata": {},
   "source": [
    "# CloudLink Server\n",
    "\n",
    "```\n",
    "\n",
    "CloudLink server as of 0.1.7.2.\n",
    "For more information, please visit https://hackmd.io/G9q1kPqvQT6NrPobjjxSgg\n",
    "\n",
    "```\n"
   ]
  },
  {
   "cell_type": "code",
   "execution_count": 1,
   "id": "2cf8ca86",
   "metadata": {},
   "outputs": [],
   "source": [
    "from cloudlink import CloudLink\n",
    "import json\n",
    "\n",
    "import gpiozero"
   ]
  },
  {
   "cell_type": "code",
   "execution_count": 2,
   "id": "d5828805",
   "metadata": {},
   "outputs": [],
   "source": [
    "left_motor = gpiozero.Motor(7, 8)\n",
    "right_motor = gpiozero.Motor(9, 10)\n",
    "\n",
    "motor_speed = 0.5"
   ]
  },
  {
   "cell_type": "code",
   "execution_count": 3,
   "id": "bb29550f",
   "metadata": {},
   "outputs": [],
   "source": [
    "def on_packet(message):\n",
    "    \n",
    "    print(\"cmd is {0}\".format(message))\n",
    "    \n",
    "    if 'val' in message:\n",
    "    \n",
    "        if message['val']==\"Forward\":\n",
    "            left_motor.forward(motor_speed)\n",
    "            right_motor.forward(motor_speed)\n",
    "    \n",
    "        if message['val']==\"Stop\":\n",
    "            left_motor.stop()\n",
    "            right_motor.stop()\n",
    "    \n",
    "def on_connect(client):\n",
    "    print(\"New client connected:\", client[\"id\"])\n",
    "\n",
    "def on_error(error):\n",
    "    print(\"Got an error: {0}\".format(error))\n",
    "\n",
    "def on_close(client):\n",
    "    print(\"Client disconnected:\", client[\"id\"])\n",
    "\n"
   ]
  },
  {
   "cell_type": "code",
   "execution_count": 4,
   "id": "141dff61",
   "metadata": {},
   "outputs": [
    {
     "name": "stdout",
     "output_type": "stream",
     "text": [
      "CloudLink v0.1.7.4\n",
      "Debug enabled\n"
     ]
    }
   ],
   "source": [
    "cl = CloudLink(debug=True)"
   ]
  },
  {
   "cell_type": "code",
   "execution_count": 5,
   "id": "2f1c8dfa",
   "metadata": {},
   "outputs": [
    {
     "name": "stdout",
     "output_type": "stream",
     "text": [
      "Binded callback on_packet.\n",
      "Binded callback on_error.\n",
      "Binded callback on_connect.\n",
      "Binded callback on_close.\n",
      "Running server on ws://127.0.0.1:3000/\n"
     ]
    }
   ],
   "source": [
    "cl.callback(\"on_packet\", on_packet)\n",
    "cl.callback(\"on_error\", on_error)\n",
    "cl.callback(\"on_connect\", on_connect)\n",
    "cl.callback(\"on_close\", on_close)\n",
    "\n",
    "# Run the server\n",
    "cl.server()\n"
   ]
  },
  {
   "cell_type": "code",
   "execution_count": null,
   "id": "db00c828",
   "metadata": {},
   "outputs": [],
   "source": []
  },
  {
   "cell_type": "code",
   "execution_count": null,
   "id": "1c6c4d56",
   "metadata": {},
   "outputs": [],
   "source": []
  }
 ],
 "metadata": {
  "kernelspec": {
   "display_name": "Python 3 (ipykernel)",
   "language": "python",
   "name": "python3"
  },
  "language_info": {
   "codemirror_mode": {
    "name": "ipython",
    "version": 3
   },
   "file_extension": ".py",
   "mimetype": "text/x-python",
   "name": "python",
   "nbconvert_exporter": "python",
   "pygments_lexer": "ipython3",
   "version": "3.7.3"
  }
 },
 "nbformat": 4,
 "nbformat_minor": 5
}
