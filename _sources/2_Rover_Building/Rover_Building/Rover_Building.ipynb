{
 "cells": [
  {
   "cell_type": "markdown",
   "metadata": {},
   "source": [
    "(Rover_Building)=\n",
    "# Construction du FetchBot\n",
    "\n",
    "\n",
    "**Objectif:** Découverte de Raspberry Pi et construction du rover\n",
    "\n",
    "|||\n",
    ":--- | :--- |\n",
    "|Âge |10 à 18 ans|\n",
    "|Notions abordées|Carte programmable Raspberry Pi, connexion à une carte programmable, robotique.|\n",
    "| Durée| 4 heures|\n",
    "| Dispositif pédagogiques| Par groupe de 2|\n",
    "| Matériel| 1. Un laptop/tablette par groupe de 2, avec connexion à Internet<br>2. Une carte Raspberry Pi avec caméra, et un CamJam EduKit.<br>3. Un câble Ethernet|\n",
    "| Prérequis| 1. Avoir pris en main le Raspberry Pi, et savoir s'y connecter avec VNC viewer (voir [Rasberry Pi: Prise en main et préparation](Raspberry_Pi))|\n",
    "\n"
   ]
  },
  {
   "cell_type": "markdown",
   "metadata": {},
   "source": [
    "## Matériel:\n",
    "\n",
    "Ce dont tu as besoin:\n",
    "\n",
    "Pour cette partie, tu auras besoin des éléments suivants du CamJam EduKit :\n",
    "\n",
    "- La carte contrôleur de moteur CamJam EduKit\n",
    "- Deux moteurs (avec les fils déjà attachés)\n",
    "- Deux roues\n",
    "- Le boîtier de piles\n",
    "- La boule à roulette\n",
    "- Du ruban adhésif double face pour coller les pièces au châssis - à découper selon les besoins.\n",
    "\n",
    "Matériel que vous devrez fournir vous-même :\n",
    "\n",
    "- Un Raspberry Pi\n",
    "- Une alimentation pour Raspberry Pi, ou une batterie de type chargeur de téléphone\n",
    "- 4 piles AA. Il est conseillé d'utiliser de bonnes piles, car certaines piles bon marché ne peuvent pas fournir le courant nécessaire pour faire fonctionner les moteurs.\n",
    "- Un châssis (non fourni) - faites appel à votre imagination (également non fourni !)\n",
    "- Un petit tournevis cruciforme\n",
    "\n",
    "## Aperçu\n",
    "\n",
    "\n",
    "Dans cette première feuille de travail, vous allez rassembler les pièces de base et construire votre robot. Presque tout ce dont vous avez besoin a été fourni, à l'exception des quatre piles AA, qui sont faciles à trouver. Un châssis n'est pas non plus fourni, car cela vous priverait du plaisir de construire votre robot selon votre propre conception.\n",
    "\n",
    "La boîte dans laquelle votre EduKit 3 est arrivé peut cependant s'avérer utile !\n",
    "Si vous n'avez pas de batterie pour alimenter votre Raspberry Pi, votre robot sera \" attaché \", ce qui signifie que vous ne pourrez pas aller plus loin que le câble d'alimentation que vous utilisez pour alimenter votre Pi.\n",
    "\n",
    "## Construction du châssis\n",
    "\n",
    "Trouvez quelque chose qui servira de corps, ou de châssis, à votre robot. Décidez quel est le haut et quel est le bas, et retournez-le avec le bas vers le haut. Fixez les moteurs à une extrémité et la boule à roulettes à l'autre. Du ruban adhésif double face est fourni avec votre kit, mais pensez à le couper à la bonne taille avant de l'utiliser. La boule à roulettes\n",
    "est fournie avec des vis, vous pouvez donc la boulonner à votre châssis. Vous trouverez peut-être que le mastic de montage fonctionne bien pour vous, et vous permet de déplacer les moteurs et la boule à roulettes.\n",
    "\n",
    "\n",
    "Note: Les roues de votre robot se déplaceront mieux si la majeure partie du poids du Pi et des batteries se trouve sur les roues motrices.  Par conséquent, construisez le châssis de manière à ce que la majeure partie du poids se trouve au-dessus d'elles. \n",
    "\n",
    "<img src=\"./images/Robot_underside.jpg\" width=\"500\"/>\n",
    "\n",
    "\n",
    "## Connexion du contrôleur de moteur EduKit à votre Pi\n",
    "\n",
    "Assurez-vous que votre Raspberry Pi est éteint avant d'y connecter quoi que ce soit. Branchez la carte contrôleur de moteur EduKit sur les broches GPIO de votre Pi, la partie principale de la carte contrôleur étant suspendue au-dessus du Pi, comme dans le schéma suivant :\n",
    "\n",
    "<img src=\"./images/raspberry_edukit.jpg\" width=\"500\"/>\n",
    "\n",
    "Une fois que vous êtes sûr de savoir comment il s'adapte à votre Pi, vous devez retirer la carte pour faciliter la connexion des fils pour les moteurs et la batterie.\n",
    "\n",
    "\n"
   ]
  },
  {
   "cell_type": "markdown",
   "metadata": {},
   "source": [
    "## Connexion des moteurs et du boîtier de batterie à la carte du contrôleur de moteur EduKit\n",
    "\n",
    "Retournez le robot sur ses roues. Fixez votre Pi et le boîtier à piles (avec les piles insérées et éteintes) sur le dessus du châssis avec du ruban adhésif double face ou du mastic de montage. Connectez maintenant le boîtier de piles et les moteurs aux bornes à vis du contrôleur comme indiqué dans le schéma ci-dessous (le Pi n'est pas représenté pour plus de clarté). Le fil noir va à la borne marquée GND (masse) et le fil rouge va à la borne marquée VCC (tension). Remarque : Il est important de savoir dans quel sens passent les fils du boîtier de la batterie. Vous risquez d'endommager la carte du contrôleur de moteur EduKit si vous la connectez dans le mauvais sens, alors vérifiez le câblage avant d'allumer quoi que ce soit.\n",
    "\n",
    "Le robot que vous allez construire en suivant ces instructions a les moteurs pilotes à l'avant, et la roue à billes unique à l'arrière. Cependant, votre robot peut être différent.\n",
    "\n",
    "Connectez le moteur situé à droite du robot au bornier marqué Moteur A et le moteur situé à gauche au bornier marqué Moteur B. Il n'est pas important à ce stade de savoir quels fils du moteur entrent dans quelles bornes, car le câblage rouge/noir n'est pas garanti dans le même sens sur les moteurs, qui peuvent donc tourner dans le mauvais sens. Vous réparerez ce problème dans la prochaine feuille de travail.\n",
    "\n",
    "Connexion des moteurs et du boîtier de batterie à la carte du contrôleur de moteur EduKit (vue du dessus):\n",
    "\n",
    "<img src=\"./images/motor_connection.jpg\" width=\"600\"/>\n",
    "\n",
    "\n",
    "## Choix d'une batterie pour votre Pi (facultatif)\n",
    "\n",
    "Afin de rendre votre Raspberry Pi mobile, vous devez l'alimenter avec une batterie portable. Vous pouvez utiliser plusieurs types de batteries, mais le plus simple est d'utiliser une batterie utilisée pour charger les téléphones portables. Elles doivent être capables de fournir suffisamment de courant pour le Pi (au moins 1A est recommandé), et avoir assez de puissance pour durer un temps raisonnable avant de s'épuiser. Vous trouverez un exemple de pack batterie sur le site Web de 4tronix : [http://bit.ly/EduKitBattery](http://bit.ly/EduKitBattery). Utilisez un câble USB standard vers microUSB pour connecter la batterie à votre Pi.\n",
    "\n",
    "\n",
    "## Robot terminé\n",
    "\n",
    "Si vous ne l'avez pas encore fait, reconnectez la carte du contrôleur de moteur au Raspberry Pi.\n",
    "\n",
    "Le robot de base est maintenant terminé.\n",
    "\n",
    "Dans la prochaine feuille de travail, vous apprendrez à faire tourner les roues et à les faire tourner dans la même direction en même temps.\n",
    "\n",
    "<img src=\"./images/completed_robot.jpg\" width=\"600\"/>\n",
    "\n",
    "\n",
    "La construction du robot est très facile. Au plus simple, la boite du CamJam EduKit est utilisée comme chassis. Il s'agit de coller les moteurs sous la boîte, y attacher les roues, et placer la bille à l'avant, grâce à des scotchs fournis dans le kit. Pour le cablâge, les fils des moteurs et la batterie sont reliés au contrôleur moteur, que l'on place sur le Raspberry Pi dans la boîte. La caméra est finalement placée à l'avant. \n",
    "\n",
    "La simplicité du kit offre une large place à la créativité pour la construction du chassis. Quelques exemples de rovers construits avec le CamJam EduKit sont données ci-dessous, avec un chassis utilisant la boîte du kit, un chassis imprimé en 3D, ou l'utilisation d'une simple planche de bois. \n",
    "\n",
    "\n"
   ]
  },
  {
   "cell_type": "markdown",
   "metadata": {},
   "source": [
    "## Télécommander le rover\n",
    "\n",
    "\n",
    "\n"
   ]
  },
  {
   "cell_type": "markdown",
   "metadata": {},
   "source": [
    "## Autres ressources\n",
    "\n",
    "* [Build a buggy project - Raspberry Pi Foundation](https://projects.raspberrypi.org/en/projects/build-a-buggy)\n",
    "* https://gpiozero.readthedocs.io/en/stable/recipes.html\n",
    "\n",
    "## Remerciements\n",
    "\n",
    "Cette section reprend des éléments:\n",
    "\n",
    "* du tutoriel [CamJam EdutKit](https://github.com/CamJam-EduKit/EduKit3/blob/master/CamJam%20Edukit%203%20-%20GPIO%20Zero/CamJam%20EduKit%203%20-%20Robotics%20Worksheet%202%20(GPIO%20Zero)%20-%20Building%20a%20Robot.pdf)"
   ]
  },
  {
   "cell_type": "markdown",
   "metadata": {},
   "source": [
    "\n",
    "\n"
   ]
  }
 ],
 "metadata": {
  "kernelspec": {
   "display_name": "Python 3 (ipykernel)",
   "language": "python",
   "name": "python3"
  },
  "language_info": {
   "codemirror_mode": {
    "name": "ipython",
    "version": 3
   },
   "file_extension": ".py",
   "mimetype": "text/x-python",
   "name": "python",
   "nbconvert_exporter": "python",
   "pygments_lexer": "ipython3",
   "version": "3.9.7"
  }
 },
 "nbformat": 4,
 "nbformat_minor": 4
}
