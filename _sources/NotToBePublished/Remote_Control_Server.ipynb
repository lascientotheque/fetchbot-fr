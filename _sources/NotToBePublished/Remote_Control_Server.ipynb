{
 "cells": [
  {
   "cell_type": "markdown",
   "id": "0de87963",
   "metadata": {},
   "source": [
    "# Web server for the MarsCamBot remote control"
   ]
  },
  {
   "cell_type": "code",
   "execution_count": 1,
   "id": "ee895914",
   "metadata": {},
   "outputs": [],
   "source": [
    "# Import the Time library\n",
    "import time  \n",
    "# Import the GPIO Zero Library\n",
    "import gpiozero \n",
    "\n",
    "# For receiving images from the camera\n",
    "import cv2\n",
    "\n",
    "# For the Web server\n",
    "import flask  "
   ]
  },
  {
   "cell_type": "code",
   "execution_count": 2,
   "id": "a8cdd0d1",
   "metadata": {},
   "outputs": [],
   "source": [
    "# Initialise right and left motors\n",
    "right_motor = gpiozero.Motor(9, 10)\n",
    "left_motor = gpiozero.Motor(7, 8)\n",
    "\n",
    "# Set motor speed\n",
    "motor_speed=0.5"
   ]
  },
  {
   "cell_type": "code",
   "execution_count": 3,
   "id": "ae8cbd22",
   "metadata": {},
   "outputs": [],
   "source": [
    "# Function to go forward\n",
    "def forward(speed=0.5, duration=1):\n",
    "\n",
    "    # Forward: Turn both motors on with the speed \"speed\"\n",
    "    left_motor.forward(speed)\n",
    "    right_motor.forward(speed)\n",
    "\n",
    "    # Wait for \"duration\" seconds\n",
    "    time.sleep(duration)\n",
    "\n",
    "    # Turn the motors off\n",
    "    left_motor.stop()\n",
    "    right_motor.stop()\n",
    "\n",
    "# Function to go backward\n",
    "def backward(speed=0.5, duration=1):\n",
    "\n",
    "    # Backward: Turn both motors on with the speed \"-speed\"\n",
    "    left_motor.backward(speed)\n",
    "    right_motor.backward(speed)\n",
    "\n",
    "    # Wait for \"duration\" seconds\n",
    "    time.sleep(duration)\n",
    "\n",
    "    # Turn the motors off\n",
    "    left_motor.stop()\n",
    "    right_motor.stop()\n",
    "\n",
    "# Function to turn right    \n",
    "def turn_right(speed=0.5, duration=1):\n",
    "\n",
    "    # right: Only turn on left motor with a speed of 0.5 \n",
    "    right_motor.backward()\n",
    "    left_motor.forward(speed)\n",
    "\n",
    "    # Wait for \"duration\" seconds\n",
    "    time.sleep(duration)\n",
    "\n",
    "    # Turn the motors off\n",
    "    left_motor.stop()\n",
    "    right_motor.stop()\n",
    "    \n",
    "# Function to turn left    \n",
    "def turn_left(speed=0.5, duration=1):\n",
    "\n",
    "    # left: Only turn on left motor with a speed of 0.5 \n",
    "    right_motor.forward(speed)\n",
    "    left_motor.backward(speed)\n",
    "\n",
    "    # Wait for \"duration\" seconds\n",
    "    time.sleep(duration)\n",
    "\n",
    "    # Turn the motors off\n",
    "    left_motor.stop()\n",
    "    right_motor.stop()\n",
    "    "
   ]
  },
  {
   "cell_type": "code",
   "execution_count": 4,
   "id": "9111d4d3",
   "metadata": {},
   "outputs": [],
   "source": [
    "# Display the video\n",
    "def display_video():\n",
    "    \n",
    "    camera_object = cv2.VideoCapture(0)\n",
    "    \n",
    "    while True:\n",
    "    \n",
    "        ret, picture = camera_object.read()\n",
    "        picture_rgb = cv2.cvtColor(picture, cv2.COLOR_BGR2RGB)\n",
    "    \n",
    "        ret, jpeg = cv2.imencode('.jpg', picture_rgb)\n",
    "        pic = jpeg.tobytes()\n",
    "        \n",
    "        #Flask streaming\n",
    "        yield (b'--frame\\r\\n'\n",
    "               b'Content-Type: image/jpeg\\r\\n\\r\\n' + pic + b'\\r\\n\\r\\n')"
   ]
  },
  {
   "cell_type": "code",
   "execution_count": 5,
   "id": "8dd16a61",
   "metadata": {},
   "outputs": [],
   "source": [
    "# Start Flask app (Web server)\n",
    "app = flask.Flask(\"Remote control\")"
   ]
  },
  {
   "cell_type": "code",
   "execution_count": 6,
   "id": "6d962e7c",
   "metadata": {},
   "outputs": [],
   "source": [
    "# Define the control as a function of the URL\n",
    "@app.route('/')\n",
    "def index():\n",
    "    return flask.render_template(\"index.html\")\n",
    "\n",
    "@app.route('/video_feed')\n",
    "def video_feed():\n",
    "    return flask.Response(display_video(),\n",
    "                    mimetype='multipart/x-mixed-replace; boundary=frame')\n",
    "\n",
    "@app.route('/forward')\n",
    "def button_forward():\n",
    "    forward(speed=motor_speed, duration=1)\n",
    "    return \"\"\n",
    "    \n",
    "@app.route('/backward')\n",
    "def button_backward():\n",
    "    backward(speed=motor_speed, duration=1)\n",
    "    return \"\"\n",
    "    \n",
    "@app.route('/left')\n",
    "def button_left():\n",
    "    turn_left(speed=motor_speed, duration=1)\n",
    "    return \"\"\n",
    "    \n",
    "@app.route('/right')\n",
    "def button_right():\n",
    "    turn_right(speed=motor_speed, duration=1)\n",
    "    return \"\"\n"
   ]
  },
  {
   "cell_type": "code",
   "execution_count": 7,
   "id": "1829564a",
   "metadata": {},
   "outputs": [
    {
     "name": "stdout",
     "output_type": "stream",
     "text": [
      " * Serving Flask app \"Remote control\" (lazy loading)\n",
      " * Environment: production\n",
      "   WARNING: Do not use the development server in a production environment.\n",
      "   Use a production WSGI server instead.\n",
      " * Debug mode: off\n"
     ]
    },
    {
     "name": "stderr",
     "output_type": "stream",
     "text": [
      " * Running on http://0.0.0.0:2204/ (Press CTRL+C to quit)\n",
      "127.0.0.1 - - [16/May/2022 09:58:59] \"\u001b[37mGET / HTTP/1.1\u001b[0m\" 200 -\n",
      "127.0.0.1 - - [16/May/2022 09:58:59] \"\u001b[33mGET /favicon.ico HTTP/1.1\u001b[0m\" 404 -\n",
      "127.0.0.1 - - [16/May/2022 09:59:00] \"\u001b[37mGET /video_feed HTTP/1.1\u001b[0m\" 200 -\n",
      "127.0.0.1 - - [16/May/2022 09:59:03] \"\u001b[37mGET /forward HTTP/1.1\u001b[0m\" 200 -\n",
      "127.0.0.1 - - [16/May/2022 10:07:11] \"\u001b[37mGET /forward HTTP/1.1\u001b[0m\" 200 -\n",
      "127.0.0.1 - - [16/May/2022 10:07:14] \"\u001b[37mGET /backward HTTP/1.1\u001b[0m\" 200 -\n"
     ]
    }
   ],
   "source": [
    "# Start Web server\n",
    "app.run(host='0.0.0.0', port=2204, threaded=True, debug=False)"
   ]
  },
  {
   "cell_type": "code",
   "execution_count": null,
   "id": "8521e3f9",
   "metadata": {},
   "outputs": [],
   "source": []
  }
 ],
 "metadata": {
  "kernelspec": {
   "display_name": "Python 3 (ipykernel)",
   "language": "python",
   "name": "python3"
  },
  "language_info": {
   "codemirror_mode": {
    "name": "ipython",
    "version": 3
   },
   "file_extension": ".py",
   "mimetype": "text/x-python",
   "name": "python",
   "nbconvert_exporter": "python",
   "pygments_lexer": "ipython3",
   "version": "3.9.7"
  }
 },
 "nbformat": 4,
 "nbformat_minor": 5
}
