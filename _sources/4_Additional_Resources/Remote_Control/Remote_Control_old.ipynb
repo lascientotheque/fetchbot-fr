{
 "cells": [
  {
   "cell_type": "markdown",
   "id": "8fdf0df3",
   "metadata": {},
   "source": [
    "# Télécommande sur page Web\n",
    "\n",
    "**Objectif:** Contrôler le rover à partir d'un site web. \n",
    "\n",
    "|||\n",
    ":--- | :--- |\n",
    "|Âge |10 à 18 ans|\n",
    "|Notions abordées|Site web|\n",
    "|Objectifs pédagogiques|Serveur web, page HTML|\n",
    "| Durée| 2 heures|\n",
    "| Dispositif pédagogiques| Par groupe de 2|\n",
    "| Matériel| Un MarsCambot, Un laptop/tablette par groupe de 2, avec connexion à Internet|\n",
    "| Prérequis| 1. Avoir construit le MarsCamBot et s'y être connecté avec VNC viewer (voir Activité 5 - Construction du rover). 2. Connaissances de bases de Python pour contrôler le robot (voir Activité 7 - Contrôle d'un rover avec Python) |\n",
    "\n",
    "\n"
   ]
  },
  {
   "cell_type": "markdown",
   "id": "ed3e1b7f",
   "metadata": {},
   "source": [
    "## Aperçu\n",
    "\n",
    "L'activité consiste à contrôler les déplacements du rover depuis un site Web. "
   ]
  },
  {
   "cell_type": "markdown",
   "id": "39979a0c",
   "metadata": {},
   "source": [
    "## Code"
   ]
  },
  {
   "cell_type": "code",
   "execution_count": null,
   "id": "bbfd3b44",
   "metadata": {},
   "outputs": [],
   "source": [
    "# Import the Time library\n",
    "import time  \n",
    "# Import the GPIO Zero Library\n",
    "import gpiozero \n",
    "\n",
    "# For receiving images from the camera\n",
    "import cv2\n",
    "\n",
    "# For the Web server\n",
    "import flask  "
   ]
  },
  {
   "cell_type": "code",
   "execution_count": null,
   "id": "c194d2d1",
   "metadata": {},
   "outputs": [],
   "source": [
    "# Initialise right and left motors\n",
    "right_motor = gpiozero.Motor(9, 10)\n",
    "left_motor = gpiozero.Motor(7, 8)\n",
    "\n",
    "# Set motor speed\n",
    "motor_speed=0.5"
   ]
  },
  {
   "cell_type": "code",
   "execution_count": null,
   "id": "10c3927a",
   "metadata": {},
   "outputs": [],
   "source": [
    "# Function to go forward\n",
    "def forward(speed=0.5, duration=1):\n",
    "\n",
    "    # Forward: Turn both motors on with the speed \"speed\"\n",
    "    left_motor.forward(speed)\n",
    "    right_motor.forward(speed)\n",
    "\n",
    "    # Wait for \"duration\" seconds\n",
    "    time.sleep(duration)\n",
    "\n",
    "    # Turn the motors off\n",
    "    left_motor.stop()\n",
    "    right_motor.stop()\n",
    "\n",
    "# Function to go backward\n",
    "def backward(speed=0.5, duration=1):\n",
    "\n",
    "    # Backward: Turn both motors on with the speed \"-speed\"\n",
    "    left_motor.backward(speed)\n",
    "    right_motor.backward(speed)\n",
    "\n",
    "    # Wait for \"duration\" seconds\n",
    "    time.sleep(duration)\n",
    "\n",
    "    # Turn the motors off\n",
    "    left_motor.stop()\n",
    "    right_motor.stop()\n",
    "\n",
    "# Function to turn right    \n",
    "def turn_right(speed=0.5, duration=1):\n",
    "\n",
    "    # right: Only turn on left motor with a speed of 0.5 \n",
    "    right_motor.backward()\n",
    "    left_motor.forward(speed)\n",
    "\n",
    "    # Wait for \"duration\" seconds\n",
    "    time.sleep(duration)\n",
    "\n",
    "    # Turn the motors off\n",
    "    left_motor.stop()\n",
    "    right_motor.stop()\n",
    "    \n",
    "# Function to turn left    \n",
    "def turn_left(speed=0.5, duration=1):\n",
    "\n",
    "    # left: Only turn on left motor with a speed of 0.5 \n",
    "    right_motor.forward(speed)\n",
    "    left_motor.backward(speed)\n",
    "\n",
    "    # Wait for \"duration\" seconds\n",
    "    time.sleep(duration)\n",
    "\n",
    "    # Turn the motors off\n",
    "    left_motor.stop()\n",
    "    right_motor.stop()"
   ]
  },
  {
   "cell_type": "code",
   "execution_count": null,
   "id": "17a610e5",
   "metadata": {},
   "outputs": [],
   "source": [
    "# Display the video\n",
    "def display_video():\n",
    "    \n",
    "    camera_object = cv2.VideoCapture(0)\n",
    "    \n",
    "    while True:\n",
    "    \n",
    "        ret, picture = camera_object.read()\n",
    "        picture_rgb = cv2.cvtColor(picture, cv2.COLOR_BGR2RGB)\n",
    "    \n",
    "        ret, jpeg = cv2.imencode('.jpg', picture_rgb)\n",
    "        pic = jpeg.tobytes()\n",
    "        \n",
    "        #Flask streaming\n",
    "        yield (b'--frame\\r\\n'\n",
    "               b'Content-Type: image/jpeg\\r\\n\\r\\n' + pic + b'\\r\\n\\r\\n')"
   ]
  },
  {
   "cell_type": "code",
   "execution_count": null,
   "id": "53c32399",
   "metadata": {},
   "outputs": [],
   "source": [
    "# Start Flask app (Web server)\n",
    "app = flask.Flask(\"Remote control\")"
   ]
  },
  {
   "cell_type": "code",
   "execution_count": null,
   "id": "0848597b",
   "metadata": {},
   "outputs": [],
   "source": [
    "# Define the control as a function of the URL\n",
    "@app.route('/')\n",
    "def index():\n",
    "    return flask.render_template(\"index.html\")\n",
    "\n",
    "@app.route('/video_feed')\n",
    "def video_feed():\n",
    "    return flask.Response(display_video(),\n",
    "                    mimetype='multipart/x-mixed-replace; boundary=frame')\n",
    "\n",
    "@app.route('/forward')\n",
    "def button_forward():\n",
    "    forward(speed=motor_speed, duration=1)\n",
    "    return \"\"\n",
    "    \n",
    "@app.route('/backward')\n",
    "def button_backward():\n",
    "    backward(speed=motor_speed, duration=1)\n",
    "    return \"\"\n",
    "    \n",
    "@app.route('/left')\n",
    "def button_left():\n",
    "    turn_left(speed=motor_speed, duration=1)\n",
    "    return \"\"\n",
    "    \n",
    "@app.route('/right')\n",
    "def button_right():\n",
    "    turn_right(speed=motor_speed, duration=1)\n",
    "    return \"\"\n"
   ]
  },
  {
   "cell_type": "code",
   "execution_count": null,
   "id": "61b55b70",
   "metadata": {},
   "outputs": [],
   "source": [
    "# Start Web server\n",
    "app.run(host='0.0.0.0', port=2204, threaded=True, debug=False)"
   ]
  }
 ],
 "metadata": {
  "kernelspec": {
   "display_name": "Python 3 (ipykernel)",
   "language": "python",
   "name": "python3"
  },
  "language_info": {
   "codemirror_mode": {
    "name": "ipython",
    "version": 3
   },
   "file_extension": ".py",
   "mimetype": "text/x-python",
   "name": "python",
   "nbconvert_exporter": "python",
   "pygments_lexer": "ipython3",
   "version": "3.9.7"
  }
 },
 "nbformat": 4,
 "nbformat_minor": 5
}
