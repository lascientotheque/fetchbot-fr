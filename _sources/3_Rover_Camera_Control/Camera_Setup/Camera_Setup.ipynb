{
 "cells": [
  {
   "cell_type": "markdown",
   "metadata": {},
   "source": [
    "(Camera_Setup)=\n",
    "# MarsCamBot avec caméra\n",
    "\n",
    "\n",
    "**Objectif:** Connecter le module caméra Raspberry Pi à ton Raspberry Pi.\n",
    "\n",
    "|||\n",
    ":--- | :--- |\n",
    "|Âge |10 à 18 ans|\n",
    "|Notions abordées|Carte programmable Raspberry Pi, connexion à une carte programmable, robotique.|\n",
    "| Durée| 4 heures|\n",
    "| Dispositif pédagogiques| Par groupe de 2|\n",
    "| Matériel| 1. Un laptop/tablette par groupe de 2, avec connexion à Internet<br>2. Une carte Raspberry Pi avec caméra, et un CamJam EduKit.<br>3. Un câble Ethernet|\n",
    "| Prérequis| [Annexe x: Savoir se connecter à un Raspberry Pi](Raspberry_Pi)|\n",
    "\n",
    "\n",
    "## Aperçu\n",
    "\n",
    "\n",
    "<img src=\"images/pi-camera-attached.jpg\" alt=\"drawing\" width=\"400\"/> \n",
    "\n",
    "## Matériel:\n",
    "\n",
    "Ce dont tu as besoin:\n",
    "\n",
    "* Une carte Raspberry Pi (à gauche dans l'image ci-dessous). \n",
    "* Une caméra Raspberry Pi (à droite dans l'image ci-dessous).\n",
    "\n",
    "\n",
    "|||\n",
    "| :---: | :---: | \n",
    "|<img src=\"./images/pi4-camera-port.png\" width=\"400\"/>  |<img src=\"./images/camera-module.png\" width=\"300\"/> | \n",
    "|Carte Raspberry Pi. Le port pour attacher la caméra<br> est indiqué par une flèche|caméra Raspberry Pi|\n",
    "\n",
    "## Connecter le module caméra\n",
    "\n",
    "Assure-toi que ton Raspberry Pi est éteint.\n",
    "\n",
    "1. Trouve le port du module caméra\n",
    "2. Tire doucement sur les bords du clip en plastique du port\n",
    "3. Insère la nappe caméra ; assure-toi que la nappe est dans le bon sens\n",
    "4. Remets le clip en plastique en place\n",
    "\n",
    "<img src=\"./images/connect-camera.gif\" width=\"600\"/>\n",
    "\n",
    "\n",
    "## Configuration dans le Raspberry Pi\n",
    "\n",
    "Démarre ton Raspberry Pi. Va dans le menu principal et ouvre l’outil **Configuration du Raspberry Pi**.\n",
    "\n",
    "<img src=\"./images/pi-configuration-menu.png\" width=\"400\"/>\n",
    "\n",
    "Sélectionne l’onglet **Interfaces** et assure-toi que la caméra est **activée** :\n",
    "\n",
    "<img src=\"./images/pi-configuration-interfaces-annotated.png\" width=\"500\"/>\n",
    "\n",
    "Redémarre ton Raspberry Pi.\n",
    "\n",
    "## Vérifie que la caméra fonctionne\n",
    "\n",
    "\n",
    "\n",
    "\n"
   ]
  },
  {
   "cell_type": "markdown",
   "metadata": {},
   "source": [
    "## Télécommander le rover\n",
    "\n",
    "\n",
    "\n"
   ]
  },
  {
   "cell_type": "markdown",
   "metadata": {},
   "source": [
    "\n",
    "## Remerciements\n",
    "\n",
    "Cette section reprend des éléments:\n",
    "\n",
    "* du tutoriel [de prise en main de la caméra Raspberry de la Raspberry Pi Foundation](https://projects.raspberrypi.org/fr-FR/projects/getting-started-with-picamera/0).\n"
   ]
  },
  {
   "cell_type": "markdown",
   "metadata": {},
   "source": [
    "\n",
    "\n"
   ]
  }
 ],
 "metadata": {
  "kernelspec": {
   "display_name": "Python 3 (ipykernel)",
   "language": "python",
   "name": "python3"
  },
  "language_info": {
   "codemirror_mode": {
    "name": "ipython",
    "version": 3
   },
   "file_extension": ".py",
   "mimetype": "text/x-python",
   "name": "python",
   "nbconvert_exporter": "python",
   "pygments_lexer": "ipython3",
   "version": "3.9.7"
  }
 },
 "nbformat": 4,
 "nbformat_minor": 4
}
