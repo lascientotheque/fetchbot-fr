{
 "cells": [
  {
   "cell_type": "markdown",
   "id": "d0581186",
   "metadata": {},
   "source": [
    "\"\"\"\n",
    "\n",
    "CloudLink Server\n",
    "\n",
    "CloudLink server as of 0.1.7.2.\n",
    "For more information, please visit https://hackmd.io/G9q1kPqvQT6NrPobjjxSgg\n",
    "\n",
    "\"\"\"\n"
   ]
  },
  {
   "cell_type": "code",
   "execution_count": 1,
   "id": "2cf8ca86",
   "metadata": {},
   "outputs": [],
   "source": [
    "from cloudlink import CloudLink\n",
    "import json\n",
    "\n",
    "import gpiozero\n",
    "\n",
    "import time\n"
   ]
  },
  {
   "cell_type": "code",
   "execution_count": 2,
   "id": "d5828805",
   "metadata": {},
   "outputs": [],
   "source": [
    "left_motor = gpiozero.Motor(7, 8)\n",
    "right_motor = gpiozero.Motor(9, 10)\n",
    "\n",
    "motor_speed = 0.5"
   ]
  },
  {
   "cell_type": "code",
   "execution_count": null,
   "id": "cef38936",
   "metadata": {},
   "outputs": [],
   "source": []
  },
  {
   "cell_type": "code",
   "execution_count": 3,
   "id": "bb29550f",
   "metadata": {},
   "outputs": [],
   "source": [
    "def on_packet(message):\n",
    "    print(\"bla\")\n",
    "    # We can get the IP of the client\n",
    "    #if type(message[\"id\"]) == dict:\n",
    "    #    print(\"Username is not set for this ID, ID is {0}\".format(message[\"id\"][\"id\"]))\n",
    "    #    print(\"IP of unnamed user is {0}\".format(cl.getIPofObject(message[\"id\"])))\n",
    "    #elif type(message[\"id\"]) == str:\n",
    "    #    print(\"Username set as {0}\".format(message[\"id\"]))\n",
    "    #    print(\"IP of user is {0}\".format(cl.getIPofUsername(message[\"id\"])))\n",
    "\n",
    "    print(\"cmd is {0}\".format(message))\n",
    "    \n",
    "    # Vérifie si le message est une commande pour Raspberry\n",
    "    \n",
    "    #message = json.load(message)\n",
    "    \n",
    "    print(message['val'])\n",
    "    \n",
    "    if message['val']==\"Forward\":\n",
    "        left_motor.forward(motor_speed)\n",
    "        right_motor.forward(motor_speed)\n",
    "    \n",
    "    if message['val']==\"Stop\":\n",
    "        left_motor.stop()\n",
    "        right_motor.stop()\n",
    "    \n",
    "    \n",
    "    \n",
    "    #if \"cmd\" in message:\n",
    "    #    print(\"Detected custom cmd\")\n",
    "    #    print(\"cmd is {0}\".format(message[\"cmd\"]))\n",
    "    \n",
    "    #print(\"val is\", message[\"val\"])\n",
    "\n",
    "    # Send back a status code to the user\n",
    "    #cl.sendPacket({\"cmd\": \"statuscode\", \"val\": cl.codes[\"OK\"], \"id\": message[\"id\"]})\n",
    "    #cl.sendPacket({\"cmd\": \"direct\", \"val\": message[\"val\"], \"id\": message[\"id\"]})\n",
    "\n",
    "#def on_packet(message):\n",
    "#    print(\"bla\")\n",
    "\n",
    "    \n",
    "def on_connect(client):\n",
    "    print(\"New client connected:\", client[\"id\"])\n",
    "\n",
    "def on_error(error):\n",
    "    print(\"Got an error: {0}\".format(error))\n",
    "\n",
    "def on_close(client):\n",
    "    print(\"Client disconnected:\", client[\"id\"])\n",
    "\n"
   ]
  },
  {
   "cell_type": "code",
   "execution_count": 4,
   "id": "141dff61",
   "metadata": {},
   "outputs": [
    {
     "name": "stdout",
     "output_type": "stream",
     "text": [
      "CloudLink v0.1.7.4\n",
      "Debug enabled\n"
     ]
    }
   ],
   "source": [
    "cl = CloudLink(debug=True)\n",
    "# Instanciate CloudLink"
   ]
  },
  {
   "cell_type": "code",
   "execution_count": null,
   "id": "2f1c8dfa",
   "metadata": {},
   "outputs": [
    {
     "name": "stdout",
     "output_type": "stream",
     "text": [
      "Binded callback on_packet.\n",
      "Binded callback on_error.\n",
      "Binded callback on_connect.\n",
      "Binded callback on_close.\n",
      "Running server on ws://127.0.0.1:3000/\n",
      "New connection: 1\n",
      "New client connected: 1\n",
      "New packet from 1: 53 bytes\n",
      "Packet data: {'cmd': 'direct', 'val': {'cmd': 'type', 'val': 'scratch'}}New packet from 1: 44 bytes\n",
      "Client 1 is a CloudLink Scratch-based client type, will be stringfifying nested JSON\n",
      "\n",
      "Packet data: {'cmd': 'direct', 'val': {'cmd': 'ip', 'val': ''}}\n",
      "Client 1 reports IP \n",
      "New packet from 1: 40 bytes\n",
      "Packet data: {'cmd': 'direct', 'id': '', 'val': 'Forward'}\n",
      "Handling direct command from 1\n",
      "bla\n",
      "cmd is {'val': 'Forward', 'id': {'id': 1, 'handler': <websocket_server.websocket_server.WebSocketHandler object at 0xa86d0b10>, 'address': ('127.0.0.1', 55308)}}\n",
      "Forward\n",
      "New packet from 1: 37 bytes\n",
      "Packet data: {'cmd': 'direct', 'id': '', 'val': 'Stop'}\n",
      "Handling direct command from 1\n",
      "bla\n",
      "cmd is {'val': 'Stop', 'id': {'id': 1, 'handler': <websocket_server.websocket_server.WebSocketHandler object at 0xa86d0b10>, 'address': ('127.0.0.1', 55308)}}\n",
      "Stop\n"
     ]
    }
   ],
   "source": [
    "\n",
    "\n",
    "cl.callback(\"on_packet\", on_packet)\n",
    "cl.callback(\"on_error\", on_error)\n",
    "cl.callback(\"on_connect\", on_connect)\n",
    "cl.callback(\"on_close\", on_close)\n",
    "# Specify callbacks to functions above\n",
    "\n",
    "    #cl.setMOTD(\"CloudLink test\", enable=True)\n",
    "    # Turn on Message-Of-The-Day\n",
    "\n",
    "cl.server()\n",
    "# Run the server"
   ]
  },
  {
   "cell_type": "code",
   "execution_count": null,
   "id": "db00c828",
   "metadata": {},
   "outputs": [],
   "source": []
  },
  {
   "cell_type": "code",
   "execution_count": null,
   "id": "1c6c4d56",
   "metadata": {},
   "outputs": [],
   "source": []
  }
 ],
 "metadata": {
  "kernelspec": {
   "display_name": "Python 3 (ipykernel)",
   "language": "python",
   "name": "python3"
  },
  "language_info": {
   "codemirror_mode": {
    "name": "ipython",
    "version": 3
   },
   "file_extension": ".py",
   "mimetype": "text/x-python",
   "name": "python",
   "nbconvert_exporter": "python",
   "pygments_lexer": "ipython3",
   "version": "3.7.3"
  }
 },
 "nbformat": 4,
 "nbformat_minor": 5
}
