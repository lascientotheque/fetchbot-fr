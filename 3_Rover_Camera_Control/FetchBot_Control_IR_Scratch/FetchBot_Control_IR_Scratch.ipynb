{
 "cells": [
  {
   "cell_type": "markdown",
   "id": "f675b064",
   "metadata": {},
   "source": [
    "# Contrôle du FetchBot et reconnaissance d'images avec Scratch\n",
    "\n",
    "**Objectif:** Faire déplacer le FetchBot avec Scratch en utilisant la reconnaissance d'images.\n",
    "\n",
    "|||\n",
    ":--- | :--- |\n",
    "|Âge |10 à 14 ans|\n",
    "|Notions abordées|Intelligence artificielle, classification d’images, robotique, programmation avec Scratch, condition, boucle.|\n",
    "| Durée| 4 heures|\n",
    "| Dispositif pédagogiques| Par groupe de 2|\n",
    "| Matériel| Un FetchBot et un laptop/tablette par groupe de 2, avec connexion à Internet|\n",
    "| Prérequis| 1. Connaissances de bases de Scratch (voir [Activité 2 - Reconnaissance d'images avec Scratch](Image_Recognition_Scratch))<br> 2. Avoir pris en main le Raspberry Pi, et savoir s'y connecter avec VNC viewer (voir [Raspberry Pi: Prise en main et préparation](Raspberry_Pi))<br> 3. Avoir construit le FetchBot (voir [Activité 4 - Construction du rover](Rover_Building))<br> 4. Avoir programmé le FetchBot pour le faire se déplacer (voir [Activité 6 - Contrôle du FetchBot avec Scratch](FetchBot_Control_Scratch))|\n",
    "\n"
   ]
  },
  {
   "cell_type": "markdown",
   "id": "27f9039a",
   "metadata": {},
   "source": [
    "## Aperçu\n",
    "\n",
    "Dans cette activité, tu vas programmer le FetchBot pour le faire explorer un terrain et retrouver un objet. On utilisera comme exemple ici la recherche d'un tube sur un sol martien, comme ce que devra faire le rover Fetch sur mars. Tu utiliseras la reconnaissance d'images pour contrôler ce que fais le rover: Faire avancer le robot lorsque le terrain est dégagé, le faire tourner lorsqu'il rencontre un obstacle, et le faire s'arrêter lorsqu'il trouve le tube. \n",
    "\n",
    "<img src=\"images/Fetchbot_Moving.gif\" width=\"600\"/> \n",
    "\n",
    "L'activité se compose de trois parties principales: \n",
    "\n",
    "* Créer un modèle de reconnaissance d'images capable de détecter 3 types de classes: le sol dégagé, les obstacles, et les tubes\n",
    "* Utiliser le modèle de reconnaissance d'images dans un programme Scratch pour faire dire au sprite de rover la classe détectée (comme dnas l'activité 2)\n",
    "* Rajouter à ce programme Scratch l'envoi de commandes au rover en fonction de la classe détectée\n",
    "\n",
    "La [vidéo de ce lien](https://www.youtube.com/watch?v=52H9oy993JY) te donne un aperçu de la réalisation de ces activités:\n",
    "\n",
    "```{note}\n",
    "L'activité peut être adaptée pour la recherche d'autres objets et sur d'autres types de terrains, par exemple le sol de ta classe, ou même un terrain en extérieur. \n",
    "```\n",
    "\n"
   ]
  },
  {
   "cell_type": "markdown",
   "id": "67c0a6eb",
   "metadata": {},
   "source": [
    "## Préparation\n",
    "\n",
    "Ton [rover est construit](Rover_Building), et tu y es [connecté avec VNC viewer](Raspberry_Pi) depuis un ordinateur ou une tablette. \n",
    "\n",
    "Il te faudra ensuite choisir un objet que le rover devra retrouver, et délimiter une zone dans laquelle le rover devra rechercher cet objet. Pour l'objet, tu peux choisir un tube, un crayon, un tournevis, ou autre. Pour la zone de recherche, tu peux imprimer un [sol martien](https://www.esa.int/ESA_Multimedia/Images/2019/12/Mars_terrain) au format A0, ou sinon délimiter une zone avec du ruban adhésif. Tu pourras ajouter dans la zone des obstacles à éviter (cailloux, boites, ou autre).\n"
   ]
  },
  {
   "cell_type": "markdown",
   "id": "d8f0a099",
   "metadata": {},
   "source": [
    "## Création du modèle de reconnaissance d'images\n"
   ]
  },
  {
   "cell_type": "markdown",
   "id": "52014c65",
   "metadata": {},
   "source": [
    "## Faire parler le sprite"
   ]
  },
  {
   "cell_type": "markdown",
   "id": "ef35b7a8",
   "metadata": {},
   "source": [
    "## Contrôle avec la reconnaissance d'images\n",
    "\n",
    "Crée un nouveau projet dans Adacraft (voir activité 2), et tu te serviras de l'extension 'CloudLink' pour communiquer avec le rover \n",
    "\n",
    "<img src=\"images/localisation/Adacraft_1_IR_Rover_Control_Blocks.jpg\" width=\"600\"/> \n"
   ]
  },
  {
   "cell_type": "code",
   "execution_count": null,
   "id": "9eab0e02",
   "metadata": {},
   "outputs": [],
   "source": []
  },
  {
   "cell_type": "code",
   "execution_count": null,
   "id": "6d211e69",
   "metadata": {},
   "outputs": [],
   "source": []
  }
 ],
 "metadata": {
  "kernelspec": {
   "display_name": "Python 3 (ipykernel)",
   "language": "python",
   "name": "python3"
  },
  "language_info": {
   "codemirror_mode": {
    "name": "ipython",
    "version": 3
   },
   "file_extension": ".py",
   "mimetype": "text/x-python",
   "name": "python",
   "nbconvert_exporter": "python",
   "pygments_lexer": "ipython3",
   "version": "3.9.7"
  }
 },
 "nbformat": 4,
 "nbformat_minor": 5
}
