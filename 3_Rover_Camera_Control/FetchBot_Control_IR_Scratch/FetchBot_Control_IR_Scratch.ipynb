{
 "cells": [
  {
   "cell_type": "markdown",
   "id": "f675b064",
   "metadata": {},
   "source": [
    "# Contrôle du FetchBot et reconnaissance d'images avec Scratch\n",
    "\n",
    "**Objectif:** Faire déplacer le FetchBot avec Scratch.\n",
    "\n",
    "|||\n",
    ":--- | :--- |\n",
    "|Âge |10 à 14 ans|\n",
    "|Notions abordées|Robotique, programmation avec Scratch, condition, boucle.|\n",
    "| Durée| 4 heures|\n",
    "| Dispositif pédagogiques| Par groupe de 2|\n",
    "| Matériel| Un FetchBot, Un laptop/tablette par groupe de 2, avec connexion à Internet|\n",
    "| Prérequis| 1. Connaissances de bases de Scratch (voir Activité 2 - Reconnaissance d'images avec Scratch)<br> 2. Avoir construit le FetchBot et s'y être connecté avec VNC viewer (voir Activité 4 - Construction du rover)|\n",
    "\n"
   ]
  },
  {
   "cell_type": "markdown",
   "id": "27f9039a",
   "metadata": {},
   "source": [
    "## Aperçu\n",
    "\n"
   ]
  },
  {
   "cell_type": "markdown",
   "id": "d8f0a099",
   "metadata": {},
   "source": [
    "## Lancer le serveur CloudLink\n",
    "\n",
    "Pour pouvoir communiquer avec le FetchBot, il faut permettre à Scratch d'envoyer des messages à la carte Raspberry. Tu utiliseras \n",
    "\n",
    "\n",
    "Voir [../0_Getting_Started/CloudLink_Server]()\n"
   ]
  },
  {
   "cell_type": "markdown",
   "id": "ef35b7a8",
   "metadata": {},
   "source": [
    "## Connexion au FetchBot \n",
    "\n",
    "Crée un nouveau projet dans Adacraft (voir activité 2), et tu te serviras de l'extension 'CloudLink' pour communiquer avec le rover \n"
   ]
  },
  {
   "cell_type": "markdown",
   "id": "2f01a356",
   "metadata": {},
   "source": [
    "## Contrôle avec la reconnaissance d'images\n",
    "\n",
    "<img src=\"images/localisation/Adacraft_1_IR_Rover_Control_Blocks.jpg\" width=\"600\"/> \n"
   ]
  },
  {
   "cell_type": "code",
   "execution_count": null,
   "id": "9eab0e02",
   "metadata": {},
   "outputs": [],
   "source": []
  },
  {
   "cell_type": "code",
   "execution_count": null,
   "id": "6d211e69",
   "metadata": {},
   "outputs": [],
   "source": []
  },
  {
   "cell_type": "markdown",
   "id": "cbe3932c",
   "metadata": {},
   "source": [
    "## Notes sur les objectifs pédagogiques\n",
    "\n",
    "Référentiel FMTTN:\n",
    "\n",
    "1. Lire un algorithme simple\n",
    "2. Écrire un algorithme simple \n",
    "3. Lire un programme simple \n",
    "4. Écrire un programme simple \n",
    "5. Identifier des éléments relatifs à la programmation et aux logigrammes.|\n"
   ]
  }
 ],
 "metadata": {
  "kernelspec": {
   "display_name": "Python 3 (ipykernel)",
   "language": "python",
   "name": "python3"
  },
  "language_info": {
   "codemirror_mode": {
    "name": "ipython",
    "version": 3
   },
   "file_extension": ".py",
   "mimetype": "text/x-python",
   "name": "python",
   "nbconvert_exporter": "python",
   "pygments_lexer": "ipython3",
   "version": "3.9.7"
  }
 },
 "nbformat": 4,
 "nbformat_minor": 5
}
