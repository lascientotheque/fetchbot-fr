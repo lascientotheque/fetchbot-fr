{
 "cells": [
  {
   "cell_type": "markdown",
   "id": "5a30ad14",
   "metadata": {},
   "source": [
    "(Raspberry_Pi)=\n",
    "# Raspberry Pi: Prise en main et préparation\n",
    "\n",
    "Cette fiche vise à prendre en main le Raspberry Pi, et à le préparer pour les activités MarsCamBot. \n",
    "\n",
    "\n",
    "\n",
    "## Prise en main\n",
    "\n",
    "Si vous n'avez jamais utilisé de Raspberry Pi, nous vous recommandons de commencer par suivre l'activité [Premiers pas avec le Raspberry Pi](https://projects.raspberrypi.org/fr-FR/projects/raspberry-pi-getting-started/0) de la fondation Raspberry. Un schéma d'un Raspberry 4 est donnée ci-dessous:\n",
    "\n",
    "<img src=\"images/pi-labelled-names.png\" width=\"500\"/> \n",
    "\n",
    "L'activité 'Premiers pas avec le Raspberry Pi' vous permettra de:\n",
    "\n",
    "* Faire connaissance avec le Raspberry Pi (RPi)\n",
    "* Installer la carte SD, puis connecter un écran, claivier et souris au RPi\n",
    "* Configurer la langue, le fuseau horaire, et optionnellement le Wifi\n",
    "* Explorer quelques uns des logiciels préinstallés (éditeur de texte, navigateur Web, etc...).\n",
    "\n",
    "\n",
    "\n",
    "\n"
   ]
  },
  {
   "cell_type": "markdown",
   "id": "84324936",
   "metadata": {},
   "source": [
    "## Connexion depuis un autre ordinateur\n",
    "\n",
    "Il est souvent pratique d'utiliser le RPi à 'distance', c'est-à-dire en s'y connectant par le réseau depuis un autre ordinateur ou tablette. \n",
    "\n",
    "Le moyen le plus simple pour une connexion à distance est d'utiliser le logiciel [VNC viewer](https://www.realvnc.com/fr/connect/download/viewer/). Télécharger-le, puis installer-le sur l'ordinateur ou la tablette à partir de laquelle vous souhaitez vous connecter au RPi. Vous devrez d'autre part configurer le RPi pour être accéder par VNC viewer, et obtenir l'adresse IP du RPi pour la connexion. \n",
    "\n",
    "[Suivez le guide proposé ici](https://www.gotronic.fr/blog/guides/vnc/) pour les différentes étapes à suivre.\n",
    "\n",
    "La capture d'écran ci-dessous montre l'interface VNC connectée à un RPi (version AstroPi de l'ESA):\n",
    "\n",
    "<img src=\"images/vnc_astropi.jpg\" width=\"900\"/> \n",
    "\n",
    "\n",
    "\n"
   ]
  },
  {
   "cell_type": "markdown",
   "id": "608a6920",
   "metadata": {},
   "source": [
    "## Installation des logiciels\n",
    "\n",
    "Pour réaliser les activités, il faut copier les fichiers du dépôt Github sur le Raspberry Pi, et installer `web_socket`.\n",
    "\n",
    "(Github_Depot)=\n",
    "### Copie du dépôt\n",
    "\n",
    "Le dépôt avec tous les fichers des activités doit être copié sur le Raspberry Pi. Ouvre un terminal de commande, puis copie le dépôt avec la commande:\n",
    "\n",
    "\n",
    "```\n",
    "git clone https://github.com/lascientotheque/fetchbot-fr\n",
    "```\n",
    "\n",
    "<img src=\"images/git_clone.jpg\" width=\"900\"/> \n",
    "\n",
    "\n",
    "Les fichers seront alors accessibles dans le répertoire `fetchbot-fr` dans ton 'home'.\n",
    "\n",
    "### Installation de web_socket\n",
    "\n",
    "Deux librairies sont nécessaires pour utiliser CloudLink avec Scratch: `websocket` et `websocket_server`. Pour les installer, ouvre un terminal de commande, et lance la commande\n",
    "\n",
    "```\n",
    "pip3 install websocket\n",
    "```\n",
    "puis \n",
    "\n",
    "```\n",
    "pip3 install websocket_server\n",
    "```\n"
   ]
  },
  {
   "cell_type": "markdown",
   "id": "1212eec8",
   "metadata": {},
   "source": [
    "## Resources utiles\n",
    "\n",
    "* [https://github.com/CamJam-EduKit/EduKit3 - Introduction.pdf](https://github.com/CamJam-EduKit/EduKit3/blob/master/CamJam%20Edukit%203%20-%20GPIO%20Zero/CamJam%20EduKit%203%20-%20Robotics%20Worksheet%201%20(GPIO%20Zero)%20-%20Introduction.pdf)\n",
    "* [Robot building](https://raw.githubusercontent.com/CamJam-EduKit/EduKit3/master/CamJam%20Edukit%203%20-%20GPIO%20Zero/CamJam%20EduKit%203%20-%20Robotics%20Worksheet%202%20(GPIO%20Zero)%20-%20Building%20a%20Robot.pdf)\n",
    "* [Raspberry Pi Getting Started](https://projects.raspberrypi.org/fr-FR/projects/raspberry-pi-getting-started)\n",
    "\n"
   ]
  },
  {
   "cell_type": "markdown",
   "id": "029c7f70",
   "metadata": {},
   "source": [
    "## Pour les activités Python\n",
    "\n",
    "* Jupyter notebook. Preference - Add/Remove software - Jupyter interactive notebook\n",
    "\n",
    "* ImageMagick. Preference - Add/Remove software - Imagemagick from software (image manipulation program - binaries)\n",
    "\n",
    "```\n",
    "picture_as_image_object.show()\n",
    "see https://forums.raspberrypi.com/viewtopic.php?t=257776\n",
    "\n",
    "```\n",
    "\n",
    "* OpenCV\n",
    "\n",
    "```\n",
    "sudo pip install opencv-contrib-python\n",
    "```\n",
    "\n",
    "-> opencv-contrib-python-4.5.4.60\n",
    "\n",
    "Prend environ 2 ou 3 heures pour s'installer. \n",
    "\n"
   ]
  },
  {
   "cell_type": "code",
   "execution_count": null,
   "id": "fd3614f6",
   "metadata": {},
   "outputs": [],
   "source": []
  }
 ],
 "metadata": {
  "kernelspec": {
   "display_name": "Python 3 (ipykernel)",
   "language": "python",
   "name": "python3"
  },
  "language_info": {
   "codemirror_mode": {
    "name": "ipython",
    "version": 3
   },
   "file_extension": ".py",
   "mimetype": "text/x-python",
   "name": "python",
   "nbconvert_exporter": "python",
   "pygments_lexer": "ipython3",
   "version": "3.9.7"
  }
 },
 "nbformat": 4,
 "nbformat_minor": 5
}
