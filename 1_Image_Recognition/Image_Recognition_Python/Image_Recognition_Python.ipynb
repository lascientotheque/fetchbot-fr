{
 "cells": [
  {
   "cell_type": "markdown",
   "id": "76ead129",
   "metadata": {},
   "source": [
    "(Image_Recognition_Python)=\n",
    "# Reconnaissance d'images avec Python\n",
    "\n",
    "**Objectif:** Déplacer la tortue Python avec de la reconnaissance d'images.\n",
    "\n",
    "|||\n",
    ":--- | :--- |\n",
    "|Âge |14 à 18 ans|\n",
    "|Notions abordées|Intelligence artificielle, classification d'images, programmation avec Python, condition, boucle.|\n",
    "| Durée| 4 heures|\n",
    "| Dispositif pédagogiques| Par groupe de 2|\n",
    "| Matériel| Un laptop/tablette par groupe de 2, avec connexion à Internet|\n",
    "| Prérequis| 1. Connaissances de bases de Python et [Annexe x: utilisation de Python dans un notebook](Python_Notebook)<br> 2. Avoir créé un modèle de reconnaissance d'image avec la Teachable Machine de Google [(Activité 1 - Reconnaissance d'images avec la Teachable Machine)](Image_Recognition)|\n",
    "\n",
    "\n"
   ]
  },
  {
   "cell_type": "markdown",
   "id": "cf8cda2b",
   "metadata": {},
   "source": [
    "## La tortue Python\n",
    "\n",
    "Commence par utiliser la tortue Python. La tortue Python est une sorte de robot que tu peux déplacer dans une fenêtre graphique. \n",
    "\n",
    "### Crée la tortue\n",
    "\n",
    "Pour permettre à Python d'utiliser la tortue, il faut d'abord importer la librairie `turtle` (qui veut dire tortue en anglais), et ensuite executer la commande `screen = turtle.getscreen()` pour ouvrir la fenêtre graphique.\n",
    "\n",
    "Ouvre l'éditeur Python Thonny, et créé un nouveau fichier en cliquant sur l'icône '+'. Copie le code ci-dessous:\n",
    "\n",
    "```\n",
    "# Import turtle library\n",
    "import turtle\n",
    "# Open screen and display turtle\n",
    "screen = turtle.getscreen()\n",
    "# Create a turtle object\n",
    "my_turtle = turtle.Turtle()\n",
    "```\n",
    "\n",
    "Remarque: Tous les textes après les '#\" sont des commentaires, et tu n'es pas obligé de les recopier. Ils aident cependant à comprendre ce que fait le code. \n",
    "\n",
    "Sauvegarde le fichier sous le nom '1-turtle.py'.\n",
    "\n",
    "### Teste le code\n",
    "\n",
    "Tu es maintenant prêt à exécuter le code. Clique sur le bouton 'Run' de l'éditeur Thonny. Si tu constates que le code ne s'exécute pas correctement, il se peut qu'il y ait une erreur dans le code que tu as écrit.\n",
    "\n",
    "Tu devrais maintenant voir une fenêtre s'ouvrir, avec la tortue qui est placée au centre. La tortue est représentée par une tête de flèche. \n",
    "\n",
    "<img src=\"images/Turtle_1_Screen.jpg\" alt=\"drawing\" width=\"400\"/> \n",
    "\n",
    "### Dirige la tortue\n",
    "\n",
    "Tu peux diriger la tortue avec les commandes:\n",
    "\n",
    "* `my_turtle.forward(x)`: Pour avancer de x pixels\n",
    "* `my_turtle.backward(x)`: Pour reculer de x pixels\n",
    "* `my_turtle.right(x)`: tourner à droite de x degrés\n",
    "* `my_turtle.left(x)`: tourner à gauche de x degrés\n",
    "\n",
    "Par exemple, pour avancer de 100 pixels, tourner de 90 degrés, puis avancer de 100 pixels, tu peux utiliser le code suivant:\n",
    "\n",
    "```\n",
    "# Import turtle library\n",
    "import turtle\n",
    "# Open screen and display turtle\n",
    "screen = turtle.getscreen()\n",
    "# Create a turtle object\n",
    "my_turtle = turtle.Turtle()\n",
    "\n",
    "my_turtle.forward(100)\n",
    "my_turtle.right(90)\n",
    "my_turtle.forward(100)\n",
    "```\n",
    "\n",
    "Copie ce code dans l'éditeur Thonny et exécute-le. Tu devrais voir la tortue suivre le trajet correspondant:\n",
    "\n",
    "<img src=\"images/Turtle_1.gif\" alt=\"drawing\" width=\"400\"/> \n",
    "\n",
    "Quel code pourrais-tu utiliser pour faire faire un carré à la tortue?\n"
   ]
  },
  {
   "cell_type": "markdown",
   "id": "a45ab21e",
   "metadata": {},
   "source": [
    "## Prendre une image avec la caméra\n",
    "\n",
    "Le code suivant te permet de prendre une image avec la caméra. Exécute-le pour voir l'image prise de la Webcam apparaître.\n"
   ]
  },
  {
   "cell_type": "code",
   "execution_count": 2,
   "id": "f4c45523",
   "metadata": {},
   "outputs": [],
   "source": [
    "# Necessary import\n",
    "import cv2 # cv2 is used to take image from the camera\n",
    "import myfunctions # myfunctions helps for taking picture and making predictions\n",
    "from PIL import Image # PIL is used to deal with images\n",
    "import time # time is used for making the computer wait\n",
    "\n",
    "# Get camera object\n",
    "camera_object = cv2.VideoCapture(0)\n",
    "\n",
    "# Take a picture from the camera\n",
    "picture_rgb = myfunctions.take_picture(camera_object)\n",
    "\n",
    "# Display picture\n",
    "picture_as_image_object = Image.fromarray(picture_rgb)\n",
    "picture_as_image_object.show(picture_as_image_object)"
   ]
  },
  {
   "cell_type": "markdown",
   "id": "f375d3b8",
   "metadata": {},
   "source": [
    "Il faut libérer la caméra pour qu'elle puisse être réutilisée dans d'autre programme! Utilise cette instruction pour libérer la caméra. "
   ]
  },
  {
   "cell_type": "code",
   "execution_count": 7,
   "id": "839f0c64",
   "metadata": {},
   "outputs": [],
   "source": [
    "# Release camera\n",
    "camera_object.release()"
   ]
  },
  {
   "cell_type": "markdown",
   "id": "394be12c",
   "metadata": {},
   "source": [
    "## Classification de l'image\n",
    "\n",
    "Pour classifier l'image, tu auras besoin d'un modèle de reconnaissance créé avec la Teachable Machine. Voir l'activité 1 pour comment créer ce modèle. \n",
    "\n",
    "### Entraînement du classificateur\n",
    "\n",
    "Pour contrôler la tortue, tu peux par exemple utiliser une flèche imprimée sur un papier, comme la flèche ci-dessous:\n",
    "\n",
    "<img src=\"images/arrrow.jpg\" alt=\"drawing\" width=\"300\"/> \n",
    "\n",
    "\n",
    "Créer ensuite un classificateur avec deux classes dans la Teachable machine, que tu nommeras:\n",
    "\n",
    "* Forward: Avec des exemples de flèche vers le haut (qui serviront à faire avancer la tortue)\n",
    "* Other: Avec des exemples où la flèche ne va pas vers le haut \n",
    "\n",
    "Prends une quarantaine d'images pour chacune des deux classes, et entraîne le classificateur. Teste-le ensuite, le classificateur devrait reconnaître quand la flèche est orienté vers le haut (classe 'forward'), comme ci-dessous:\n",
    "\n",
    "<img src=\"images/TM_Training.gif\" alt=\"TM_Training\" width=\"900\"/> \n",
    "\n",
    "Exporte ensuite le modèle pour Python (Voir activité 1), et copie le ficher `model.tflite` dans le répertoire de tes fichiers Python. \n",
    "\n",
    "### Classification de l'image\n",
    "\n",
    "**Ajout algorigramme**"
   ]
  },
  {
   "cell_type": "code",
   "execution_count": 8,
   "id": "5689cf91",
   "metadata": {},
   "outputs": [
    {
     "name": "stdout",
     "output_type": "stream",
     "text": [
      "Je reconnais la classe 'Other'\n",
      "Je reconnais la classe 'Other'\n",
      "Je reconnais la classe 'Other'\n",
      "Je reconnais la classe 'Other'\n"
     ]
    },
    {
     "ename": "KeyboardInterrupt",
     "evalue": "",
     "output_type": "error",
     "traceback": [
      "\u001b[0;31m---------------------------------------------------------------------------\u001b[0m",
      "\u001b[0;31mKeyboardInterrupt\u001b[0m                         Traceback (most recent call last)",
      "\u001b[0;32m/var/folders/2y/mv3z1v0945b60_l2bzjwpzj80000gn/T/ipykernel_33278/2209539620.py\u001b[0m in \u001b[0;36m<module>\u001b[0;34m\u001b[0m\n\u001b[1;32m     16\u001b[0m \u001b[0;34m\u001b[0m\u001b[0m\n\u001b[1;32m     17\u001b[0m     \u001b[0;31m# Wait for one second\u001b[0m\u001b[0;34m\u001b[0m\u001b[0;34m\u001b[0m\u001b[0m\n\u001b[0;32m---> 18\u001b[0;31m     \u001b[0mtime\u001b[0m\u001b[0;34m.\u001b[0m\u001b[0msleep\u001b[0m\u001b[0;34m(\u001b[0m\u001b[0;36m1\u001b[0m\u001b[0;34m)\u001b[0m\u001b[0;34m\u001b[0m\u001b[0;34m\u001b[0m\u001b[0m\n\u001b[0m\u001b[1;32m     19\u001b[0m \u001b[0;34m\u001b[0m\u001b[0m\n\u001b[1;32m     20\u001b[0m     \u001b[0;31m# Take image from the camera\u001b[0m\u001b[0;34m\u001b[0m\u001b[0;34m\u001b[0m\u001b[0m\n",
      "\u001b[0;31mKeyboardInterrupt\u001b[0m: "
     ]
    }
   ],
   "source": [
    "# Necessary import\n",
    "import cv2 # cv2 is used to take image from the camera\n",
    "import myfunctions # myfunctions helps for taking picture and making predictions\n",
    "import matplotlib.pyplot as plt # matplotlib is used to deal with images\n",
    "from PIL import Image # PIL is used to deal with images\n",
    "import time # time is used for making the computer wait\n",
    "\n",
    "# Get camera object\n",
    "camera_object = cv2.VideoCapture(0)\n",
    "\n",
    "# Initialize model\n",
    "interpreter = myfunctions.initialize_model(model_path='model.tflite')\n",
    "\n",
    "# Infinite loop\n",
    "while True:\n",
    "    \n",
    "    # Wait for one second\n",
    "    time.sleep(1)\n",
    "    \n",
    "    # Take image from the camera\n",
    "    picture_rgb = myfunctions.take_picture(camera_object)\n",
    "    \n",
    "    # Predict image class\n",
    "    prediction, probability = myfunctions.model_prediction(interpreter, picture_rgb)\n",
    "    \n",
    "    # If prediction is class 0, class is 'Forward'\n",
    "    if prediction == 0:\n",
    "        \n",
    "        print(\"Je reconnais la classe 'Forward'\")\n",
    "        \n",
    "    # If prediction is class 1, class is 'Other'\n",
    "    if prediction == 1:\n",
    "        \n",
    "        print(\"Je reconnais la classe 'Other'\")\n",
    "    "
   ]
  },
  {
   "cell_type": "code",
   "execution_count": null,
   "id": "c563ab87",
   "metadata": {},
   "outputs": [],
   "source": [
    "# Release camera\n",
    "camera_object.release()"
   ]
  },
  {
   "cell_type": "markdown",
   "id": "68083131",
   "metadata": {},
   "source": [
    "## Contrôle la tortue avec la reconnaissance d'image"
   ]
  },
  {
   "cell_type": "code",
   "execution_count": null,
   "id": "0837bbf5",
   "metadata": {},
   "outputs": [],
   "source": [
    "# Necessary import\n",
    "import turtle # For using Python turtle\n",
    "import cv2 # cv2 is used to take image from the camera\n",
    "import myfunctions # myfunctions helps for taking picture and making predictions\n",
    "import matplotlib.pyplot as plt # matplotlib is used to deal with images\n",
    "from PIL import Image # PIL is used to deal with images\n",
    "import time # time is used for making the computer wait\n",
    "\n",
    "# Open screen and display turtle\n",
    "screen = turtle.getscreen()\n",
    "# Create a turtle object\n",
    "my_turtle = turtle.Turtle()\n",
    "\n",
    "# Get camera object\n",
    "camera_object = cv2.VideoCapture(0)\n",
    "\n",
    "# Initialize model\n",
    "interpreter = myfunctions.initialize_model(model_path='model.tflite')\n",
    "\n",
    "# Infinite loop\n",
    "while True:\n",
    "    \n",
    "    # Wait for one second\n",
    "    time.sleep(1)\n",
    "    \n",
    "    # Take image from the camera\n",
    "    picture_rgb = myfunctions.take_picture(camera_object)\n",
    "    \n",
    "    # Predict image class\n",
    "    prediction, probability = myfunctions.model_prediction(interpreter, picture_rgb)\n",
    "    \n",
    "    # If prediction is class 0, class is 'Forward'\n",
    "    if prediction == 0:\n",
    "        \n",
    "        my_turtle.forward(10)\n",
    "        \n",
    "    "
   ]
  },
  {
   "cell_type": "code",
   "execution_count": null,
   "id": "7de62578",
   "metadata": {},
   "outputs": [],
   "source": [
    "# Release camera\n",
    "camera_object.release()"
   ]
  },
  {
   "cell_type": "markdown",
   "id": "dc3b6770",
   "metadata": {},
   "source": [
    "## Aller plus loin\n",
    "\n",
    "* Ajoute des classes avec des images de flèches vers la droite ou la gauche pour faire tourner la tortue à droite ou à gauche\n",
    "* Fais un classificateur qui utilise l'image de tube sur sol martien, et pour faire avancer la tortue si aucun tube n'est détecté, et fais s'arrêter la tortue lorsqu'un tube est détecté\n"
   ]
  },
  {
   "cell_type": "markdown",
   "id": "49dff90c",
   "metadata": {},
   "source": [
    "## Ressources utiles\n",
    "\n",
    "* [Documentation pour la tortue Python](https://docs.python.org/fr/3/library/turtle.html)"
   ]
  }
 ],
 "metadata": {
  "kernelspec": {
   "display_name": "Python 3 (ipykernel)",
   "language": "python",
   "name": "python3"
  },
  "language_info": {
   "codemirror_mode": {
    "name": "ipython",
    "version": 3
   },
   "file_extension": ".py",
   "mimetype": "text/x-python",
   "name": "python",
   "nbconvert_exporter": "python",
   "pygments_lexer": "ipython3",
   "version": "3.9.7"
  }
 },
 "nbformat": 4,
 "nbformat_minor": 5
}
